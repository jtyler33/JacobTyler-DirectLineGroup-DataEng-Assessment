{
 "cells": [
  {
   "cell_type": "code",
   "execution_count": 1,
   "metadata": {},
   "outputs": [],
   "source": [
    "import findspark\n",
    " \n",
    "findspark.init('/home/jacobs_cloud/spark-3.0.0-bin-hadoop2.7')"
   ]
  },
  {
   "cell_type": "code",
   "execution_count": 2,
   "metadata": {
    "collapsed": true
   },
   "outputs": [],
   "source": [
    "#import modules and set the configuration\n",
    "import pyspark\n",
    "from pyspark import SparkContext,SparkConf\n",
    "from pyspark.sql import SQLContext\n",
    "from pyspark.sql.functions import col\n",
    "conf = pyspark.SparkConf().setAppName(\"DLGtestapp\").setMaster(\"local\")"
   ]
  },
  {
   "cell_type": "code",
   "execution_count": 3,
   "metadata": {},
   "outputs": [
    {
     "name": "stderr",
     "output_type": "stream",
     "text": [
      "/home/jacob_w_tyler_cloud/spark-3.0.0-bin-hadoop2.7/python/pyspark/context.py:220: DeprecationWarning: Support for Python 2 and Python 3 prior to version 3.6 is deprecated as of Spark 3.0. See also the plan for dropping Python 2 support at https://spark.apache.org/news/plan-for-dropping-python-2-support.html.\n",
      "  DeprecationWarning)\n"
     ]
    }
   ],
   "source": [
    "# start spark context session, sql context\n",
    "sc = pyspark.SparkContext(conf=conf)\n",
    "sql_con = SQLContext(sc)"
   ]
  },
  {
   "cell_type": "code",
   "execution_count": 4,
   "metadata": {},
   "outputs": [],
   "source": [
    "#read in data as dataframe and change ScreenTemperature datatype to 'double'\n",
    "df = sql_con.read.csv('weather*', inferSchema = False, header = True) \n",
    "df = df.withColumn('ScreenTemperature',\n",
    "        col('ScreenTemperature').cast('double'))"
   ]
  },
  {
   "cell_type": "code",
   "execution_count": 5,
   "metadata": {},
   "outputs": [
    {
     "data": {
      "text/plain": [
       "194697"
      ]
     },
     "execution_count": 5,
     "metadata": {},
     "output_type": "execute_result"
    }
   ],
   "source": [
    "#count number of rows\n",
    "df.count()"
   ]
  },
  {
   "cell_type": "code",
   "execution_count": 6,
   "metadata": {},
   "outputs": [
    {
     "data": {
      "text/plain": [
       "[('ForecastSiteCode', 'string'),\n",
       " ('ObservationTime', 'string'),\n",
       " ('ObservationDate', 'string'),\n",
       " ('WindDirection', 'string'),\n",
       " ('WindSpeed', 'string'),\n",
       " ('WindGust', 'string'),\n",
       " ('Visibility', 'string'),\n",
       " ('ScreenTemperature', 'double'),\n",
       " ('Pressure', 'string'),\n",
       " ('SignificantWeatherCode', 'string'),\n",
       " ('SiteName', 'string'),\n",
       " ('Latitude', 'string'),\n",
       " ('Longitude', 'string'),\n",
       " ('Region', 'string'),\n",
       " ('Country', 'string')]"
      ]
     },
     "execution_count": 6,
     "metadata": {},
     "output_type": "execute_result"
    }
   ],
   "source": [
    "#check datatypes\n",
    "df.dtypes"
   ]
  },
  {
   "cell_type": "code",
   "execution_count": 7,
   "metadata": {},
   "outputs": [
    {
     "name": "stdout",
     "output_type": "stream",
     "text": [
      "+----------------+---------------+-------------------+-------------+---------+--------+----------+-----------------+--------+----------------------+--------------------+--------+---------+--------------------+--------+\n",
      "|ForecastSiteCode|ObservationTime|    ObservationDate|WindDirection|WindSpeed|WindGust|Visibility|ScreenTemperature|Pressure|SignificantWeatherCode|            SiteName|Latitude|Longitude|              Region| Country|\n",
      "+----------------+---------------+-------------------+-------------+---------+--------+----------+-----------------+--------+----------------------+--------------------+--------+---------+--------------------+--------+\n",
      "|            3002|              0|2016-03-01T00:00:00|            8|       23|      30|     16000|            -99.0|    null|                     8|   BALTASOUND (3002)| 60.7490|  -0.8540|   Orkney & Shetland|SCOTLAND|\n",
      "|            3005|              0|2016-03-01T00:00:00|            8|       26|      34|      5000|              4.9|    1004|                    12|LERWICK (S. SCREE...| 60.1390|  -1.1830|   Orkney & Shetland|SCOTLAND|\n",
      "|            3008|              0|2016-03-01T00:00:00|            7|       30|      40|      5000|              5.1|    1003|                    11|    FAIR ISLE (3008)| 59.5300|  -1.6300|   Orkney & Shetland|    null|\n",
      "|            3017|              0|2016-03-01T00:00:00|            7|       21|      29|      5000|              5.1|    1001|                    15|     KIRKWALL (3017)| 58.9540|  -2.9000|   Orkney & Shetland|SCOTLAND|\n",
      "|            3023|              0|2016-03-01T00:00:00|           10|       25|      34|      2400|              8.6|     994|                    12|SOUTH UIST RANGE ...| 57.3580|  -7.3970|Highland & Eilean...|SCOTLAND|\n",
      "+----------------+---------------+-------------------+-------------+---------+--------+----------+-----------------+--------+----------------------+--------------------+--------+---------+--------------------+--------+\n",
      "only showing top 5 rows\n",
      "\n"
     ]
    }
   ],
   "source": [
    "#display head\n",
    "df.show(5)"
   ]
  },
  {
   "cell_type": "code",
   "execution_count": 8,
   "metadata": {},
   "outputs": [],
   "source": [
    "#write dataframe to parquet\n",
    "df.write.parquet(\"weather.parquet\")"
   ]
  },
  {
   "cell_type": "code",
   "execution_count": 9,
   "metadata": {
    "collapsed": true
   },
   "outputs": [],
   "source": [
    "#read in resulting parquet file\n",
    "weather_parquetFile = sql_con.read.parquet(\"weather.parquet\")"
   ]
  },
  {
   "cell_type": "code",
   "execution_count": 10,
   "metadata": {},
   "outputs": [
    {
     "name": "stdout",
     "output_type": "stream",
     "text": [
      "+----------------+---------------+-------------------+-------------+---------+--------+----------+-----------------+--------+----------------------+--------------------+--------+---------+--------------------+--------+\n",
      "|ForecastSiteCode|ObservationTime|    ObservationDate|WindDirection|WindSpeed|WindGust|Visibility|ScreenTemperature|Pressure|SignificantWeatherCode|            SiteName|Latitude|Longitude|              Region| Country|\n",
      "+----------------+---------------+-------------------+-------------+---------+--------+----------+-----------------+--------+----------------------+--------------------+--------+---------+--------------------+--------+\n",
      "|            3002|              0|2016-03-01T00:00:00|            8|       23|      30|     16000|            -99.0|    null|                     8|   BALTASOUND (3002)| 60.7490|  -0.8540|   Orkney & Shetland|SCOTLAND|\n",
      "|            3005|              0|2016-03-01T00:00:00|            8|       26|      34|      5000|              4.9|    1004|                    12|LERWICK (S. SCREE...| 60.1390|  -1.1830|   Orkney & Shetland|SCOTLAND|\n",
      "|            3008|              0|2016-03-01T00:00:00|            7|       30|      40|      5000|              5.1|    1003|                    11|    FAIR ISLE (3008)| 59.5300|  -1.6300|   Orkney & Shetland|    null|\n",
      "|            3017|              0|2016-03-01T00:00:00|            7|       21|      29|      5000|              5.1|    1001|                    15|     KIRKWALL (3017)| 58.9540|  -2.9000|   Orkney & Shetland|SCOTLAND|\n",
      "|            3023|              0|2016-03-01T00:00:00|           10|       25|      34|      2400|              8.6|     994|                    12|SOUTH UIST RANGE ...| 57.3580|  -7.3970|Highland & Eilean...|SCOTLAND|\n",
      "+----------------+---------------+-------------------+-------------+---------+--------+----------+-----------------+--------+----------------------+--------------------+--------+---------+--------------------+--------+\n",
      "only showing top 5 rows\n",
      "\n"
     ]
    }
   ],
   "source": [
    "#display head\n",
    "weather_parquetFile.show(5)"
   ]
  },
  {
   "cell_type": "code",
   "execution_count": 11,
   "metadata": {},
   "outputs": [
    {
     "data": {
      "text/plain": [
       "True"
      ]
     },
     "execution_count": 11,
     "metadata": {},
     "output_type": "execute_result"
    }
   ],
   "source": [
    "#check if all rows were imported \n",
    "weather_parquetFile.count() == df.count()"
   ]
  },
  {
   "cell_type": "code",
   "execution_count": 12,
   "metadata": {
    "collapsed": true
   },
   "outputs": [],
   "source": [
    "#create weather SQL table from parquetfile dataframe\n",
    "weather_parquetFile.createOrReplaceTempView(\"weather\")"
   ]
  },
  {
   "cell_type": "code",
   "execution_count": 13,
   "metadata": {},
   "outputs": [
    {
     "name": "stdout",
     "output_type": "stream",
     "text": [
      "+-------------+\n",
      "|count(Region)|\n",
      "+-------------+\n",
      "|            0|\n",
      "+-------------+\n",
      "\n"
     ]
    }
   ],
   "source": [
    "#check if we have null values for any row in the Region column\n",
    "null_regions = sql_con.sql(\"SELECT COUNT(Region) FROM weather WHERE Region IS NULL\")\n",
    "null_regions.show()"
   ]
  },
  {
   "cell_type": "code",
   "execution_count": 14,
   "metadata": {},
   "outputs": [
    {
     "name": "stdout",
     "output_type": "stream",
     "text": [
      "+----+-------------------+----------------------+\n",
      "|Temp|Date               |Region                |\n",
      "+----+-------------------+----------------------+\n",
      "|15.8|2016-03-17T00:00:00|Highland & Eilean Siar|\n",
      "+----+-------------------+----------------------+\n",
      "\n"
     ]
    }
   ],
   "source": [
    "#findthe max temperature and display the corresponding Region and Date\n",
    "query = sql_con.sql(\"SELECT DISTINCT ScreenTemperature as Temp, ObservationDate as Date, Region\\\n",
    "                    FROM weather WHERE ScreenTemperature = (SELECT MAX(ScreenTemperature) FROM weather)\")\n",
    "\n",
    "query.show(truncate = False)"
   ]
  },
  {
   "cell_type": "code",
   "execution_count": 15,
   "metadata": {},
   "outputs": [],
   "source": [
    "#stop spark session\n",
    "sc.stop()"
   ]
  }
 ],
 "metadata": {
  "kernelspec": {
   "display_name": "Python 3",
   "language": "python",
   "name": "python3"
  },
  "language_info": {
   "codemirror_mode": {
    "name": "ipython",
    "version": 3
   },
   "file_extension": ".py",
   "mimetype": "text/x-python",
   "name": "python",
   "nbconvert_exporter": "python",
   "pygments_lexer": "ipython3",
   "version": "3.7.4"
  }
 },
 "nbformat": 4,
 "nbformat_minor": 1
}
